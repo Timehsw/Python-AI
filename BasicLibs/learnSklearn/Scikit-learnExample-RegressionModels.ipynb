{
 "cells": [
  {
   "cell_type": "code",
   "execution_count": 1,
   "metadata": {
    "collapsed": true
   },
   "outputs": [],
   "source": [
    "from sklearn import datasets"
   ]
  },
  {
   "cell_type": "code",
   "execution_count": 2,
   "metadata": {
    "collapsed": true
   },
   "outputs": [],
   "source": [
    "diabetes=datasets.load_diabetes()"
   ]
  },
  {
   "cell_type": "code",
   "execution_count": 5,
   "metadata": {},
   "outputs": [
    {
     "data": {
      "text/plain": [
       "['age', 'sex', 'bmi', 'bp', 's1', 's2', 's3', 's4', 's5', 's6']"
      ]
     },
     "execution_count": 5,
     "metadata": {},
     "output_type": "execute_result"
    }
   ],
   "source": [
    "diabetes.feature_names"
   ]
  },
  {
   "cell_type": "code",
   "execution_count": 6,
   "metadata": {
    "collapsed": true
   },
   "outputs": [],
   "source": [
    "y=diabetes.target\n",
    "x=diabetes.data"
   ]
  },
  {
   "cell_type": "code",
   "execution_count": 7,
   "metadata": {},
   "outputs": [
    {
     "data": {
      "text/plain": [
       "(442, 10)"
      ]
     },
     "execution_count": 7,
     "metadata": {},
     "output_type": "execute_result"
    }
   ],
   "source": [
    "x.shape"
   ]
  },
  {
   "cell_type": "code",
   "execution_count": 8,
   "metadata": {},
   "outputs": [
    {
     "data": {
      "text/plain": [
       "array([[ 0.03807591,  0.05068012,  0.06169621,  0.02187235, -0.0442235 ,\n",
       "        -0.03482076, -0.04340085, -0.00259226,  0.01990842, -0.01764613],\n",
       "       [-0.00188202, -0.04464164, -0.05147406, -0.02632783, -0.00844872,\n",
       "        -0.01916334,  0.07441156, -0.03949338, -0.06832974, -0.09220405],\n",
       "       [ 0.08529891,  0.05068012,  0.04445121, -0.00567061, -0.04559945,\n",
       "        -0.03419447, -0.03235593, -0.00259226,  0.00286377, -0.02593034],\n",
       "       [-0.08906294, -0.04464164, -0.01159501, -0.03665645,  0.01219057,\n",
       "         0.02499059, -0.03603757,  0.03430886,  0.02269202, -0.00936191],\n",
       "       [ 0.00538306, -0.04464164, -0.03638469,  0.02187235,  0.00393485,\n",
       "         0.01559614,  0.00814208, -0.00259226, -0.03199144, -0.04664087]])"
      ]
     },
     "execution_count": 8,
     "metadata": {},
     "output_type": "execute_result"
    }
   ],
   "source": [
    "x[:5]"
   ]
  },
  {
   "cell_type": "code",
   "execution_count": 9,
   "metadata": {},
   "outputs": [
    {
     "data": {
      "text/plain": [
       "array([ 151.,   75.,  141.,  206.,  135.,   97.,  138.,   63.,  110.,  310.])"
      ]
     },
     "execution_count": 9,
     "metadata": {},
     "output_type": "execute_result"
    }
   ],
   "source": [
    "y[:10]"
   ]
  },
  {
   "cell_type": "code",
   "execution_count": 10,
   "metadata": {},
   "outputs": [
    {
     "data": {
      "text/plain": [
       "sklearn.utils.Bunch"
      ]
     },
     "execution_count": 10,
     "metadata": {},
     "output_type": "execute_result"
    }
   ],
   "source": [
    "type(diabetes)"
   ]
  },
  {
   "cell_type": "code",
   "execution_count": 11,
   "metadata": {
    "collapsed": true
   },
   "outputs": [],
   "source": [
    "feature_names=['age', 'sex', 'bmi', 'bp', 's1', 's2', 's3', 's4', 's5', 's6']"
   ]
  },
  {
   "cell_type": "code",
   "execution_count": 12,
   "metadata": {
    "collapsed": true
   },
   "outputs": [],
   "source": [
    "from sklearn.linear_model import Lasso\n",
    "import numpy as np\n",
    "from sklearn import linear_model,datasets\n",
    "from sklearn.model_selection import GridSearchCV"
   ]
  },
  {
   "cell_type": "markdown",
   "metadata": {},
   "source": [
    "We will split our data into separate test and train sets of data (train is used to train the model and test is used for model performance testing and evaluation)."
   ]
  },
  {
   "cell_type": "code",
   "execution_count": 16,
   "metadata": {
    "collapsed": true
   },
   "outputs": [],
   "source": [
    "diabetes=datasets.load_diabetes()\n",
    "x_train=diabetes.data[:310]\n",
    "y_train=diabetes.target[:310]\n",
    "\n",
    "x_test=diabetes.data[310:]\n",
    "y_test=diabetes.target[310:]"
   ]
  },
  {
   "cell_type": "markdown",
   "metadata": {},
   "source": [
    "Then we will define the model we want to use and the parameter space for one of the model’s hyperparameters. Here we will search the parameter alpha of the Lasso model. This parameter basically controls the strictness our regularization.\n"
   ]
  },
  {
   "cell_type": "code",
   "execution_count": 15,
   "metadata": {},
   "outputs": [
    {
     "data": {
      "text/plain": [
       "array([  1.00000000e-04,   1.32035178e-04,   1.74332882e-04,\n",
       "         2.30180731e-04,   3.03919538e-04,   4.01280703e-04,\n",
       "         5.29831691e-04,   6.99564216e-04,   9.23670857e-04,\n",
       "         1.21957046e-03,   1.61026203e-03,   2.12611233e-03,\n",
       "         2.80721620e-03,   3.70651291e-03,   4.89390092e-03,\n",
       "         6.46167079e-03,   8.53167852e-03,   1.12648169e-02,\n",
       "         1.48735211e-02,   1.96382800e-02,   2.59294380e-02,\n",
       "         3.42359796e-02,   4.52035366e-02,   5.96845700e-02,\n",
       "         7.88046282e-02,   1.04049831e-01,   1.37382380e-01,\n",
       "         1.81393069e-01,   2.39502662e-01,   3.16227766e-01])"
      ]
     },
     "execution_count": 15,
     "metadata": {},
     "output_type": "execute_result"
    }
   ],
   "source": [
    "lasso=Lasso(random_state=0)\n",
    "alpha=np.logspace(-4,-0.5,30)\n",
    "alpha"
   ]
  },
  {
   "cell_type": "markdown",
   "metadata": {},
   "source": [
    "Then we will initialize an estimator that will identify the model to be used. Here we notice that the process is identical for both learning a single model and a grid search of models, i.e. they both are objects of the estimator class."
   ]
  },
  {
   "cell_type": "code",
   "execution_count": 17,
   "metadata": {},
   "outputs": [
    {
     "data": {
      "text/plain": [
       "GridSearchCV(cv=None, error_score='raise',\n",
       "       estimator=Lasso(alpha=1.0, copy_X=True, fit_intercept=True, max_iter=1000,\n",
       "   normalize=False, positive=False, precompute=False, random_state=0,\n",
       "   selection='cyclic', tol=0.0001, warm_start=False),\n",
       "       fit_params=None, iid=True, n_jobs=1,\n",
       "       param_grid={'alpha': array([  1.00000e-04,   1.32035e-04,   1.74333e-04,   2.30181e-04,\n",
       "         3.03920e-04,   4.01281e-04,   5.29832e-04,   6.99564e-04,\n",
       "         9.23671e-04,   1.21957e-03,   1.61026e-03,   2.12611e-03,\n",
       "         2.80722e-03,   3.70651e-03,   4.89390e-03,   6.46167e-03,\n",
       "         8....    7.88046e-02,   1.04050e-01,   1.37382e-01,   1.81393e-01,\n",
       "         2.39503e-01,   3.16228e-01])},\n",
       "       pre_dispatch='2*n_jobs', refit=True, return_train_score='warn',\n",
       "       scoring=None, verbose=0)"
      ]
     },
     "execution_count": 17,
     "metadata": {},
     "output_type": "execute_result"
    }
   ],
   "source": [
    "estimator=GridSearchCV(lasso,dict(alpha=alpha))\n",
    "estimator.fit(x_train,y_train)"
   ]
  },
  {
   "cell_type": "code",
   "execution_count": null,
   "metadata": {
    "collapsed": true
   },
   "outputs": [],
   "source": []
  },
  {
   "cell_type": "code",
   "execution_count": 18,
   "metadata": {},
   "outputs": [
    {
     "data": {
      "text/plain": [
       "0.46540637590235312"
      ]
     },
     "execution_count": 18,
     "metadata": {},
     "output_type": "execute_result"
    }
   ],
   "source": [
    "estimator.best_score_"
   ]
  },
  {
   "cell_type": "code",
   "execution_count": 19,
   "metadata": {},
   "outputs": [
    {
     "data": {
      "text/plain": [
       "Lasso(alpha=0.025929437974046669, copy_X=True, fit_intercept=True,\n",
       "   max_iter=1000, normalize=False, positive=False, precompute=False,\n",
       "   random_state=0, selection='cyclic', tol=0.0001, warm_start=False)"
      ]
     },
     "execution_count": 19,
     "metadata": {},
     "output_type": "execute_result"
    }
   ],
   "source": [
    "estimator.best_estimator_"
   ]
  },
  {
   "cell_type": "code",
   "execution_count": 20,
   "metadata": {},
   "outputs": [
    {
     "data": {
      "text/plain": [
       "array([ 203.42104984,  177.6595529 ,  122.62188598,  212.81136958,\n",
       "        173.61633075,  114.76145025,  202.36033584,  171.70767813,\n",
       "        164.28694562,  191.29091477,  191.41279009,  288.2772433 ,\n",
       "        296.47009002,  234.53378413,  210.61427168,  228.62812055,\n",
       "        156.74489991,  225.08834492,  191.75874632,  102.81600989,\n",
       "        172.373221  ,  111.20843429,  290.22242876,  178.64605207,\n",
       "         78.13722832,   86.35832297,  256.41378529,  165.99622543,\n",
       "        121.29260976,  153.48718848,  163.09835143,  180.0932902 ,\n",
       "        161.4330553 ,  155.80211635,  143.70181085,  126.13753819,\n",
       "        181.06471818,  105.03679977,  131.0479936 ,   90.50606427,\n",
       "        252.66486639,   84.84786067,   59.41005358,  184.51368208,\n",
       "        201.46598714,  129.96333913,   90.65641478,  200.10932516,\n",
       "         55.2884802 ,  171.60459062,  195.40750666,  122.14139787,\n",
       "        231.72783897,  159.49750022,  160.32104862,  165.53701866,\n",
       "        260.73217736,  259.77213787,  204.69526082,  185.66480969,\n",
       "         61.09821961,  209.9214333 ,  108.50410841,  141.18424239,\n",
       "        126.10337002,  174.32819351,  214.4947322 ,  162.1789921 ,\n",
       "        160.57776438,  134.11449594,  171.63076427,   71.71500885,\n",
       "        263.46782314,  113.73653782,  112.76227977,  134.37721414,\n",
       "        110.67874472,   98.67153573,  157.2591359 ,   78.32019218,\n",
       "        265.97090212,   57.85502185,  100.38532691,  101.91670102,\n",
       "        277.13032245,  168.6443445 ,   64.75637937,  184.37359745,\n",
       "        174.74927914,  188.78215433,  181.56001383,   92.74463449,\n",
       "        145.41037529,  257.78620944,  196.57335354,  276.1920927 ,\n",
       "         50.66776115,  179.12879963,  200.29366671,  167.29501922,\n",
       "        158.93206689,  156.08070427,  233.38241229,  125.30241353,\n",
       "        167.05404644,  171.66748431,  223.17843095,  156.7055944 ,\n",
       "        103.29063169,   84.08205647,  139.87060658,  189.99648341,\n",
       "        200.20182211,  143.61906164,  170.00220231,  112.05886847,\n",
       "        160.76337573,  130.06232976,  261.83022688,  102.24589129,\n",
       "        115.12771477,  119.14505163,  225.96991263,   63.51874043,\n",
       "        134.88829709,  120.01764214,   55.32147904,  189.95346987,\n",
       "        105.8037979 ,  120.46197038,  211.35568232,   56.78368048])"
      ]
     },
     "execution_count": 20,
     "metadata": {},
     "output_type": "execute_result"
    }
   ],
   "source": [
    "estimator.predict(x_test)"
   ]
  },
  {
   "cell_type": "code",
   "execution_count": null,
   "metadata": {
    "collapsed": true
   },
   "outputs": [],
   "source": []
  }
 ],
 "metadata": {
  "kernelspec": {
   "display_name": "Python 3",
   "language": "python",
   "name": "python3"
  },
  "language_info": {
   "codemirror_mode": {
    "name": "ipython",
    "version": 3
   },
   "file_extension": ".py",
   "mimetype": "text/x-python",
   "name": "python",
   "nbconvert_exporter": "python",
   "pygments_lexer": "ipython3",
   "version": "3.6.3"
  }
 },
 "nbformat": 4,
 "nbformat_minor": 2
}
