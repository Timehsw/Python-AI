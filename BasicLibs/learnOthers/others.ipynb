{
 "cells": [
  {
   "cell_type": "code",
   "execution_count": 1,
   "metadata": {
    "collapsed": true
   },
   "outputs": [],
   "source": [
    "import os"
   ]
  },
  {
   "cell_type": "code",
   "execution_count": 3,
   "metadata": {},
   "outputs": [
    {
     "name": "stdout",
     "output_type": "stream",
     "text": [
      "Splitting /Users/hushiwei/PycharmProjects/PythonDataAnalysis/learnOthers/data/aiwar_train_data to /Users/hushiwei/PycharmProjects/PythonDataAnalysis/learnOthers/data_split\n"
     ]
    }
   ],
   "source": [
    "fromfile = './data/aiwar_train_data'\n",
    "todir = './data_split/'\n",
    "absfrom, absto = map(os.path.abspath, [fromfile, todir])\n",
    "print('Splitting', absfrom, 'to', absto)"
   ]
  },
  {
   "cell_type": "code",
   "execution_count": 14,
   "metadata": {},
   "outputs": [
    {
     "data": {
      "text/plain": [
       "['青海']"
      ]
     },
     "execution_count": 14,
     "metadata": {},
     "output_type": "execute_result"
    }
   ],
   "source": [
    "path=\"/Users/hushiwei/PycharmProjects/ApplistPredictGender/data_split\"\n",
    "os.listdir(path)[0:1]"
   ]
  },
  {
   "cell_type": "code",
   "execution_count": 6,
   "metadata": {
    "collapsed": true
   },
   "outputs": [],
   "source": [
    "import random\n"
   ]
  },
  {
   "cell_type": "code",
   "execution_count": 7,
   "metadata": {},
   "outputs": [
    {
     "data": {
      "text/plain": [
       "[4, 2, 34]"
      ]
     },
     "execution_count": 7,
     "metadata": {},
     "output_type": "execute_result"
    }
   ],
   "source": [
    "random.sample([1,2,34,4],3)"
   ]
  },
  {
   "cell_type": "code",
   "execution_count": 15,
   "metadata": {
    "collapsed": true
   },
   "outputs": [],
   "source": [
    "apps=[15, 30, 28, 29]"
   ]
  },
  {
   "cell_type": "code",
   "execution_count": 17,
   "metadata": {},
   "outputs": [
    {
     "name": "stdout",
     "output_type": "stream",
     "text": [
      "0 : 15\n",
      "1 : 30\n",
      "2 : 28\n",
      "3 : 29\n"
     ]
    }
   ],
   "source": [
    "for x,item in enumerate(apps):\n",
    "    print(str(x)+\" : \"+str(item))"
   ]
  },
  {
   "cell_type": "code",
   "execution_count": 11,
   "metadata": {},
   "outputs": [
    {
     "data": {
      "text/plain": [
       "[]"
      ]
     },
     "execution_count": 11,
     "metadata": {},
     "output_type": "execute_result"
    }
   ],
   "source": [
    " list(filter(lambda x: x not in [15, 30, 28, 29], apps))"
   ]
  },
  {
   "cell_type": "code",
   "execution_count": 27,
   "metadata": {
    "collapsed": true
   },
   "outputs": [],
   "source": [
    "arr=[218, 63, 53, 113, 134, 68, 170, 26, 22, 49, 28, 29, 347, 218,360, 585, 307, 70, 78, 15, 55, 18, 30, 51, 35, 116]"
   ]
  },
  {
   "cell_type": "code",
   "execution_count": 30,
   "metadata": {},
   "outputs": [
    {
     "name": "stdout",
     "output_type": "stream",
     "text": [
      "{218: 2, 63: 1, 53: 1, 113: 1, 134: 1, 68: 1, 170: 1, 26: 1, 22: 1, 49: 1, 28: 1, 29: 1, 347: 1, 360: 1, 585: 1, 307: 1, 70: 1, 78: 1, 15: 1, 55: 1, 18: 1, 30: 1, 51: 1, 35: 1, 116: 1}\n"
     ]
    }
   ],
   "source": [
    "set_all={}\n",
    "for key in arr:\n",
    "    v=set_all.get(key,0)\n",
    "    set_all[key]=(v+1)\n",
    "print(set_all)"
   ]
  },
  {
   "cell_type": "code",
   "execution_count": 31,
   "metadata": {},
   "outputs": [
    {
     "name": "stdout",
     "output_type": "stream",
     "text": [
      "{218: 2}\n"
     ]
    }
   ],
   "source": [
    "set_all=dict((k,v) for k,v in set_all.items() if v>1)\n",
    "print(set_all)"
   ]
  },
  {
   "cell_type": "code",
   "execution_count": 32,
   "metadata": {
    "collapsed": true
   },
   "outputs": [],
   "source": [
    "import numpy as np"
   ]
  },
  {
   "cell_type": "code",
   "execution_count": 35,
   "metadata": {},
   "outputs": [
    {
     "data": {
      "text/plain": [
       "array([[0, 0, 0],\n",
       "       [0, 0, 0]])"
      ]
     },
     "execution_count": 35,
     "metadata": {},
     "output_type": "execute_result"
    }
   ],
   "source": [
    "np.zeros((2,3),dtype=np.int)"
   ]
  },
  {
   "cell_type": "code",
   "execution_count": 36,
   "metadata": {},
   "outputs": [
    {
     "name": "stderr",
     "output_type": "stream",
     "text": [
      "/Users/hushiwei/anaconda3/lib/python3.6/site-packages/sklearn/cross_validation.py:41: DeprecationWarning: This module was deprecated in version 0.18 in favor of the model_selection module into which all the refactored classes and functions are moved. Also note that the interface of the new CV iterators are different from that of this module. This module will be removed in 0.20.\n",
      "  \"This module will be removed in 0.20.\", DeprecationWarning)\n"
     ]
    }
   ],
   "source": [
    "from sklearn.cross_validation import StratifiedShuffleSplit"
   ]
  },
  {
   "cell_type": "code",
   "execution_count": 77,
   "metadata": {},
   "outputs": [
    {
     "data": {
      "text/plain": [
       "1"
      ]
     },
     "execution_count": 77,
     "metadata": {},
     "output_type": "execute_result"
    }
   ],
   "source": [
    "X=np.array([\n",
    "    [1,2],\n",
    "    [3,4],\n",
    "    [1,2],\n",
    "    [3,4],\n",
    "    [7,8],\n",
    "    [9,10]\n",
    "])\n",
    "y = np.array([0, 0, 1, 1,0,0])\n",
    "sss = StratifiedShuffleSplit(y, 1, test_size=0.2, random_state=0)\n",
    "len(sss)"
   ]
  },
  {
   "cell_type": "code",
   "execution_count": 78,
   "metadata": {},
   "outputs": [
    {
     "name": "stdout",
     "output_type": "stream",
     "text": [
      "StratifiedShuffleSplit(labels=[0 0 1 1 0 0], n_iter=1, test_size=0.2, random_state=0)\n"
     ]
    }
   ],
   "source": [
    "print(sss)"
   ]
  },
  {
   "cell_type": "code",
   "execution_count": 79,
   "metadata": {},
   "outputs": [
    {
     "name": "stdout",
     "output_type": "stream",
     "text": [
      "TRAIN: [4 1 5 2] TEST: [0 3]\n",
      "[[ 7  8]\n",
      " [ 3  4]\n",
      " [ 9 10]\n",
      " [ 1  2]]\n"
     ]
    }
   ],
   "source": [
    "for train_index,test_index in sss:\n",
    "    print(\"TRAIN:\", train_index, \"TEST:\", test_index)\n",
    "    X_train, X_test = X[train_index], X[test_index]\n",
    "    y_train, y_test = y[train_index], y[test_index]\n",
    "    print(X_train)"
   ]
  },
  {
   "cell_type": "code",
   "execution_count": 81,
   "metadata": {},
   "outputs": [
    {
     "data": {
      "text/plain": [
       "array([[3, 4],\n",
       "       [3, 4]])"
      ]
     },
     "execution_count": 81,
     "metadata": {},
     "output_type": "execute_result"
    }
   ],
   "source": [
    "X[[1,3]]"
   ]
  },
  {
   "cell_type": "code",
   "execution_count": 85,
   "metadata": {},
   "outputs": [
    {
     "data": {
      "text/plain": [
       "15"
      ]
     },
     "execution_count": 85,
     "metadata": {},
     "output_type": "execute_result"
    }
   ],
   "source": [
    "a=dict()\n",
    "a[\"bayes\"]=(lambda x,y:x*y,\"haha\")\n",
    "a[\"hu\"]=(lambda x,y:x+y,\"lalalal\")\n",
    "\n",
    "a[\"bayes\"][0](3,5)"
   ]
  },
  {
   "cell_type": "code",
   "execution_count": 89,
   "metadata": {},
   "outputs": [
    {
     "data": {
      "text/plain": [
       "'haha'"
      ]
     },
     "execution_count": 89,
     "metadata": {},
     "output_type": "execute_result"
    }
   ],
   "source": [
    "a[\"bayes\"][1]"
   ]
  },
  {
   "cell_type": "code",
   "execution_count": 96,
   "metadata": {},
   "outputs": [
    {
     "data": {
      "text/plain": [
       "array([[0, 2, 0, 0, 2, 3, 3, 4, 4, 1, 1, 1, 4, 0, 4, 0, 1, 2, 4, 1, 4, 0,\n",
       "        0, 4, 4, 2, 0, 0, 0, 4, 4, 3, 4, 2, 1, 0, 3, 1, 1, 0, 0, 3, 0, 2,\n",
       "        1, 1, 1, 1, 3, 4, 3, 2, 0, 0, 3, 0, 2, 3, 0, 0, 1, 4, 4, 4, 3, 1,\n",
       "        3, 3, 2, 3, 0, 2, 4, 4, 0, 3, 1, 4, 0, 1, 4, 3, 0, 3, 4, 3, 4, 4,\n",
       "        0, 0, 4, 4, 2, 0, 3, 3, 2, 3, 0, 4],\n",
       "       [1, 1, 3, 1, 2, 1, 2, 4, 4, 0, 2, 2, 2, 0, 2, 4, 3, 1, 3, 0, 3, 0,\n",
       "        3, 4, 0, 2, 0, 3, 0, 2, 4, 2, 2, 0, 3, 0, 4, 4, 1, 2, 4, 0, 4, 1,\n",
       "        3, 0, 3, 1, 2, 1, 4, 0, 0, 3, 1, 4, 2, 3, 3, 0, 1, 3, 3, 3, 0, 2,\n",
       "        1, 2, 3, 3, 2, 3, 2, 0, 2, 2, 0, 2, 4, 3, 2, 0, 2, 0, 1, 1, 1, 0,\n",
       "        4, 4, 0, 3, 2, 0, 0, 3, 2, 2, 4, 0],\n",
       "       [2, 0, 2, 2, 0, 1, 0, 2, 3, 2, 1, 4, 2, 0, 4, 3, 3, 4, 4, 2, 2, 0,\n",
       "        1, 4, 2, 4, 1, 4, 3, 1, 1, 1, 1, 1, 0, 4, 4, 2, 0, 2, 1, 3, 1, 3,\n",
       "        2, 4, 3, 2, 4, 2, 2, 2, 0, 2, 2, 4, 0, 2, 0, 1, 2, 4, 3, 3, 3, 4,\n",
       "        1, 3, 4, 2, 2, 3, 2, 4, 0, 2, 4, 1, 3, 4, 3, 2, 2, 4, 1, 4, 0, 0,\n",
       "        2, 0, 3, 1, 0, 3, 1, 0, 2, 0, 1, 1],\n",
       "       [3, 1, 1, 0, 4, 2, 4, 4, 1, 2, 3, 1, 2, 1, 2, 2, 3, 4, 3, 0, 2, 2,\n",
       "        2, 3, 1, 4, 2, 4, 1, 1, 2, 3, 4, 3, 4, 2, 2, 1, 3, 3, 2, 2, 4, 4,\n",
       "        1, 4, 0, 4, 2, 0, 3, 3, 3, 1, 4, 0, 4, 0, 3, 1, 2, 4, 1, 4, 0, 4,\n",
       "        4, 4, 0, 0, 2, 2, 3, 1, 3, 0, 0, 3, 2, 3, 1, 1, 1, 0, 1, 1, 2, 4,\n",
       "        0, 2, 1, 3, 4, 1, 1, 3, 4, 0, 0, 1],\n",
       "       [2, 4, 3, 4, 0, 4, 0, 4, 4, 0, 4, 3, 4, 1, 2, 4, 2, 2, 4, 1, 4, 0,\n",
       "        4, 3, 4, 0, 2, 1, 2, 0, 0, 3, 0, 3, 3, 3, 0, 3, 2, 2, 4, 0, 3, 3,\n",
       "        4, 3, 3, 0, 4, 2, 4, 3, 3, 4, 1, 4, 4, 4, 0, 4, 3, 4, 2, 4, 0, 0,\n",
       "        3, 4, 3, 2, 2, 4, 4, 2, 0, 2, 3, 3, 3, 1, 0, 1, 0, 1, 1, 0, 3, 1,\n",
       "        4, 2, 4, 3, 0, 4, 0, 4, 3, 1, 4, 4],\n",
       "       [0, 1, 0, 2, 0, 1, 4, 2, 0, 1, 2, 1, 3, 2, 4, 0, 4, 4, 2, 1, 2, 0,\n",
       "        4, 2, 0, 4, 2, 0, 1, 4, 0, 3, 0, 3, 2, 2, 3, 3, 4, 3, 0, 4, 2, 0,\n",
       "        3, 3, 4, 2, 4, 3, 0, 2, 1, 0, 4, 3, 3, 2, 1, 0, 4, 1, 3, 3, 0, 4,\n",
       "        0, 3, 2, 0, 1, 4, 4, 4, 0, 1, 1, 4, 4, 4, 0, 0, 2, 3, 2, 0, 2, 0,\n",
       "        3, 4, 4, 0, 2, 4, 2, 2, 1, 4, 2, 1]])"
      ]
     },
     "execution_count": 96,
     "metadata": {},
     "output_type": "execute_result"
    }
   ],
   "source": [
    "a=np.random.randint(5, size=(6, 100))\n",
    "a"
   ]
  },
  {
   "cell_type": "code",
   "execution_count": 95,
   "metadata": {},
   "outputs": [
    {
     "data": {
      "text/plain": [
       "array([[2, 1, 3, 2, 2, 3, 3, 0, 1, 4, 2, 1, 0, 3, 2, 0, 0, 4, 0, 2, 1, 4,\n",
       "        2, 3, 3, 2, 4, 3, 2, 2, 4, 2, 0, 4, 3, 2, 2, 4, 0, 2, 4, 3, 1, 1,\n",
       "        4, 4, 3, 1, 2, 3, 0, 0, 2, 1, 1, 2, 1, 2, 4, 0, 2, 3, 3, 3, 4, 1,\n",
       "        4, 2, 4, 4, 0, 2, 3, 0, 4, 4, 2, 3, 1, 3, 4, 0, 0, 4, 3, 1, 2, 3,\n",
       "        3, 1, 1, 3, 0, 1, 2, 0, 2, 3, 4, 3]])"
      ]
     },
     "execution_count": 95,
     "metadata": {},
     "output_type": "execute_result"
    }
   ],
   "source": [
    "a[2:3]"
   ]
  },
  {
   "cell_type": "code",
   "execution_count": 104,
   "metadata": {},
   "outputs": [
    {
     "name": "stdout",
     "output_type": "stream",
     "text": [
      "[3]\n"
     ]
    },
    {
     "data": {
      "text/plain": [
       "1.0"
      ]
     },
     "execution_count": 104,
     "metadata": {},
     "output_type": "execute_result"
    }
   ],
   "source": [
    "import numpy as np\n",
    "X = np.random.randint(5, size=(6, 100))\n",
    "y = np.array([1, 2, 3, 4, 5, 6])\n",
    "from sklearn.naive_bayes import MultinomialNB\n",
    "clf = MultinomialNB()\n",
    "clf.fit(X, y)\n",
    "MultinomialNB(alpha=1.0, class_prior=None, fit_prior=True)\n",
    "print(clf.predict(X[2:3]))\n",
    "clf.score(X[5:6],[6])"
   ]
  },
  {
   "cell_type": "code",
   "execution_count": 107,
   "metadata": {},
   "outputs": [
    {
     "ename": "TypeError",
     "evalue": "iteration over a 0-d array",
     "output_type": "error",
     "traceback": [
      "\u001b[0;31m---------------------------------------------------------------------------\u001b[0m",
      "\u001b[0;31mTypeError\u001b[0m                                 Traceback (most recent call last)",
      "\u001b[0;32m<ipython-input-107-6bab833b4aee>\u001b[0m in \u001b[0;36m<module>\u001b[0;34m()\u001b[0m\n\u001b[1;32m      2\u001b[0m \u001b[0mtarget_names\u001b[0m \u001b[0;34m=\u001b[0m \u001b[0mset\u001b[0m\u001b[0;34m(\u001b[0m\u001b[0;34m[\u001b[0m\u001b[0;34m'0'\u001b[0m\u001b[0;34m,\u001b[0m \u001b[0;34m'1'\u001b[0m\u001b[0;34m]\u001b[0m\u001b[0;34m)\u001b[0m\u001b[0;34m\u001b[0m\u001b[0m\n\u001b[1;32m      3\u001b[0m \u001b[0marr\u001b[0m\u001b[0;34m=\u001b[0m\u001b[0mnp\u001b[0m\u001b[0;34m.\u001b[0m\u001b[0marray\u001b[0m\u001b[0;34m(\u001b[0m\u001b[0;34m[\u001b[0m\u001b[0;36m6\u001b[0m\u001b[0;34m]\u001b[0m\u001b[0;34m)\u001b[0m\u001b[0;34m\u001b[0m\u001b[0m\n\u001b[0;32m----> 4\u001b[0;31m \u001b[0mprint\u001b[0m\u001b[0;34m(\u001b[0m\u001b[0mclassification_report\u001b[0m\u001b[0;34m(\u001b[0m\u001b[0;34m[\u001b[0m\u001b[0;36m6\u001b[0m\u001b[0;34m]\u001b[0m\u001b[0;34m,\u001b[0m\u001b[0marr\u001b[0m\u001b[0;34m,\u001b[0m\u001b[0mtarget_names\u001b[0m\u001b[0;34m)\u001b[0m\u001b[0;34m)\u001b[0m\u001b[0;34m\u001b[0m\u001b[0m\n\u001b[0m",
      "\u001b[0;32m~/anaconda3/lib/python3.6/site-packages/sklearn/metrics/classification.py\u001b[0m in \u001b[0;36mclassification_report\u001b[0;34m(y_true, y_pred, labels, target_names, sample_weight, digits)\u001b[0m\n\u001b[1;32m   1432\u001b[0m \u001b[0;34m\u001b[0m\u001b[0m\n\u001b[1;32m   1433\u001b[0m     \u001b[0;32mif\u001b[0m \u001b[0mtarget_names\u001b[0m \u001b[0;32mis\u001b[0m \u001b[0;32mNone\u001b[0m\u001b[0;34m:\u001b[0m\u001b[0;34m\u001b[0m\u001b[0m\n\u001b[0;32m-> 1434\u001b[0;31m         \u001b[0mtarget_names\u001b[0m \u001b[0;34m=\u001b[0m \u001b[0;34m[\u001b[0m\u001b[0;34mu'%s'\u001b[0m \u001b[0;34m%\u001b[0m \u001b[0ml\u001b[0m \u001b[0;32mfor\u001b[0m \u001b[0ml\u001b[0m \u001b[0;32min\u001b[0m \u001b[0mlabels\u001b[0m\u001b[0;34m]\u001b[0m\u001b[0;34m\u001b[0m\u001b[0m\n\u001b[0m\u001b[1;32m   1435\u001b[0m     \u001b[0mname_width\u001b[0m \u001b[0;34m=\u001b[0m \u001b[0mmax\u001b[0m\u001b[0;34m(\u001b[0m\u001b[0mlen\u001b[0m\u001b[0;34m(\u001b[0m\u001b[0mcn\u001b[0m\u001b[0;34m)\u001b[0m \u001b[0;32mfor\u001b[0m \u001b[0mcn\u001b[0m \u001b[0;32min\u001b[0m \u001b[0mtarget_names\u001b[0m\u001b[0;34m)\u001b[0m\u001b[0;34m\u001b[0m\u001b[0m\n\u001b[1;32m   1436\u001b[0m     \u001b[0mwidth\u001b[0m \u001b[0;34m=\u001b[0m \u001b[0mmax\u001b[0m\u001b[0;34m(\u001b[0m\u001b[0mname_width\u001b[0m\u001b[0;34m,\u001b[0m \u001b[0mlen\u001b[0m\u001b[0;34m(\u001b[0m\u001b[0mlast_line_heading\u001b[0m\u001b[0;34m)\u001b[0m\u001b[0;34m,\u001b[0m \u001b[0mdigits\u001b[0m\u001b[0;34m)\u001b[0m\u001b[0;34m\u001b[0m\u001b[0m\n",
      "\u001b[0;31mTypeError\u001b[0m: iteration over a 0-d array"
     ]
    }
   ],
   "source": [
    "from sklearn.metrics import classification_report\n",
    "target_names = set(['0', '1'])\n",
    "arr=np.array([6])\n",
    "print(classification_report([6],arr,target_names))"
   ]
  },
  {
   "cell_type": "code",
   "execution_count": 1,
   "metadata": {
    "collapsed": true
   },
   "outputs": [],
   "source": [
    "arr=['a','b','c','d']"
   ]
  },
  {
   "cell_type": "code",
   "execution_count": 3,
   "metadata": {},
   "outputs": [
    {
     "data": {
      "text/plain": [
       "3"
      ]
     },
     "execution_count": 3,
     "metadata": {},
     "output_type": "execute_result"
    }
   ],
   "source": [
    "arr.index('d')"
   ]
  },
  {
   "cell_type": "code",
   "execution_count": 4,
   "metadata": {
    "collapsed": true
   },
   "outputs": [],
   "source": [
    "import numpy as np"
   ]
  },
  {
   "cell_type": "code",
   "execution_count": 5,
   "metadata": {},
   "outputs": [
    {
     "data": {
      "text/plain": [
       "array([[ 0.,  0.,  0.],\n",
       "       [ 0.,  0.,  0.]])"
      ]
     },
     "execution_count": 5,
     "metadata": {},
     "output_type": "execute_result"
    }
   ],
   "source": [
    "mat=np.zeros((2,3))\n",
    "mat"
   ]
  },
  {
   "cell_type": "code",
   "execution_count": 8,
   "metadata": {},
   "outputs": [
    {
     "data": {
      "text/plain": [
       "array([[ 0.,  0.,  0.],\n",
       "       [ 0.,  1.,  1.]])"
      ]
     },
     "execution_count": 8,
     "metadata": {},
     "output_type": "execute_result"
    }
   ],
   "source": [
    "mat[1,2]=1\n",
    "mat"
   ]
  },
  {
   "cell_type": "code",
   "execution_count": null,
   "metadata": {
    "collapsed": true
   },
   "outputs": [],
   "source": []
  }
 ],
 "metadata": {
  "kernelspec": {
   "display_name": "Python 3",
   "language": "python",
   "name": "python3"
  },
  "language_info": {
   "codemirror_mode": {
    "name": "ipython",
    "version": 3
   },
   "file_extension": ".py",
   "mimetype": "text/x-python",
   "name": "python",
   "nbconvert_exporter": "python",
   "pygments_lexer": "ipython3",
   "version": "3.6.3"
  }
 },
 "nbformat": 4,
 "nbformat_minor": 2
}
