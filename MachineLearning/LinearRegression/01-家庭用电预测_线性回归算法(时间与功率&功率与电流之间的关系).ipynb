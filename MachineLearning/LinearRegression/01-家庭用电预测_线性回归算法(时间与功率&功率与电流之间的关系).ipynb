{
 "cells": [
  {
   "cell_type": "code",
   "execution_count": 1,
   "metadata": {
    "collapsed": true
   },
   "outputs": [],
   "source": [
    "import sklearn\n",
    "from sklearn.model_selection import train_test_split\n",
    "from sklearn.linear_model import LinearRegression\n",
    "from sklearn.preprocessing import StandardScaler\n",
    "import numpy as np\n",
    "import pandas as pd\n",
    "import matplotlib as mpl\n",
    "import matplotlib.pyplot as plt\n",
    "from pandas import DataFrame\n",
    "import time\n",
    "\n",
    "# 设置字符集,防止中文乱码\n",
    "mpl.rcParams['font.sans-serif']=[u'simHei']\n",
    "mpl.rcParams['axes.unicode_minus']=False"
   ]
  },
  {
   "cell_type": "code",
   "execution_count": 2,
   "metadata": {},
   "outputs": [
    {
     "name": "stdout",
     "output_type": "stream",
     "text": [
      "['Date', 'Time', 'Global_active_power', 'Global_reactive_power', 'Voltage', 'Global_intensity', 'Sub_metering_1', 'Sub_metering_2', 'Sub_metering_3']\n"
     ]
    },
    {
     "data": {
      "text/html": [
       "<div>\n",
       "<style>\n",
       "    .dataframe thead tr:only-child th {\n",
       "        text-align: right;\n",
       "    }\n",
       "\n",
       "    .dataframe thead th {\n",
       "        text-align: left;\n",
       "    }\n",
       "\n",
       "    .dataframe tbody tr th {\n",
       "        vertical-align: top;\n",
       "    }\n",
       "</style>\n",
       "<table border=\"1\" class=\"dataframe\">\n",
       "  <thead>\n",
       "    <tr style=\"text-align: right;\">\n",
       "      <th></th>\n",
       "      <th>Date</th>\n",
       "      <th>Time</th>\n",
       "      <th>Global_active_power</th>\n",
       "      <th>Global_reactive_power</th>\n",
       "      <th>Voltage</th>\n",
       "      <th>Global_intensity</th>\n",
       "      <th>Sub_metering_1</th>\n",
       "      <th>Sub_metering_2</th>\n",
       "      <th>Sub_metering_3</th>\n",
       "    </tr>\n",
       "  </thead>\n",
       "  <tbody>\n",
       "    <tr>\n",
       "      <th>0</th>\n",
       "      <td>16/12/2006</td>\n",
       "      <td>17:24:00</td>\n",
       "      <td>4.216</td>\n",
       "      <td>0.418</td>\n",
       "      <td>234.84</td>\n",
       "      <td>18.4</td>\n",
       "      <td>0.0</td>\n",
       "      <td>1.0</td>\n",
       "      <td>17.0</td>\n",
       "    </tr>\n",
       "    <tr>\n",
       "      <th>1</th>\n",
       "      <td>16/12/2006</td>\n",
       "      <td>17:25:00</td>\n",
       "      <td>5.360</td>\n",
       "      <td>0.436</td>\n",
       "      <td>233.63</td>\n",
       "      <td>23.0</td>\n",
       "      <td>0.0</td>\n",
       "      <td>1.0</td>\n",
       "      <td>16.0</td>\n",
       "    </tr>\n",
       "    <tr>\n",
       "      <th>2</th>\n",
       "      <td>16/12/2006</td>\n",
       "      <td>17:26:00</td>\n",
       "      <td>5.374</td>\n",
       "      <td>0.498</td>\n",
       "      <td>233.29</td>\n",
       "      <td>23.0</td>\n",
       "      <td>0.0</td>\n",
       "      <td>2.0</td>\n",
       "      <td>17.0</td>\n",
       "    </tr>\n",
       "    <tr>\n",
       "      <th>3</th>\n",
       "      <td>16/12/2006</td>\n",
       "      <td>17:27:00</td>\n",
       "      <td>5.388</td>\n",
       "      <td>0.502</td>\n",
       "      <td>233.74</td>\n",
       "      <td>23.0</td>\n",
       "      <td>0.0</td>\n",
       "      <td>1.0</td>\n",
       "      <td>17.0</td>\n",
       "    </tr>\n",
       "    <tr>\n",
       "      <th>4</th>\n",
       "      <td>16/12/2006</td>\n",
       "      <td>17:28:00</td>\n",
       "      <td>3.666</td>\n",
       "      <td>0.528</td>\n",
       "      <td>235.68</td>\n",
       "      <td>15.8</td>\n",
       "      <td>0.0</td>\n",
       "      <td>1.0</td>\n",
       "      <td>17.0</td>\n",
       "    </tr>\n",
       "  </tbody>\n",
       "</table>\n",
       "</div>"
      ],
      "text/plain": [
       "         Date      Time  Global_active_power  Global_reactive_power  Voltage  \\\n",
       "0  16/12/2006  17:24:00                4.216                  0.418   234.84   \n",
       "1  16/12/2006  17:25:00                5.360                  0.436   233.63   \n",
       "2  16/12/2006  17:26:00                5.374                  0.498   233.29   \n",
       "3  16/12/2006  17:27:00                5.388                  0.502   233.74   \n",
       "4  16/12/2006  17:28:00                3.666                  0.528   235.68   \n",
       "\n",
       "   Global_intensity  Sub_metering_1  Sub_metering_2  Sub_metering_3  \n",
       "0              18.4             0.0             1.0            17.0  \n",
       "1              23.0             0.0             1.0            16.0  \n",
       "2              23.0             0.0             2.0            17.0  \n",
       "3              23.0             0.0             1.0            17.0  \n",
       "4              15.8             0.0             1.0            17.0  "
      ]
     },
     "execution_count": 2,
     "metadata": {},
     "output_type": "execute_result"
    }
   ],
   "source": [
    "# 加载数据\n",
    "df=pd.read_csv('datas/household_power_consumption_1000.txt',sep=';',low_memory=False)\n",
    "\n",
    "print(df.columns.tolist())\n",
    "\n",
    "df.head()"
   ]
  },
  {
   "cell_type": "code",
   "execution_count": 3,
   "metadata": {},
   "outputs": [
    {
     "name": "stdout",
     "output_type": "stream",
     "text": [
      "数据统计指标表\n"
     ]
    },
    {
     "data": {
      "text/html": [
       "<div>\n",
       "<style>\n",
       "    .dataframe thead tr:only-child th {\n",
       "        text-align: right;\n",
       "    }\n",
       "\n",
       "    .dataframe thead th {\n",
       "        text-align: left;\n",
       "    }\n",
       "\n",
       "    .dataframe tbody tr th {\n",
       "        vertical-align: top;\n",
       "    }\n",
       "</style>\n",
       "<table border=\"1\" class=\"dataframe\">\n",
       "  <thead>\n",
       "    <tr style=\"text-align: right;\">\n",
       "      <th></th>\n",
       "      <th>Global_active_power</th>\n",
       "      <th>Global_reactive_power</th>\n",
       "      <th>Voltage</th>\n",
       "      <th>Global_intensity</th>\n",
       "      <th>Sub_metering_1</th>\n",
       "      <th>Sub_metering_2</th>\n",
       "      <th>Sub_metering_3</th>\n",
       "    </tr>\n",
       "  </thead>\n",
       "  <tbody>\n",
       "    <tr>\n",
       "      <th>count</th>\n",
       "      <td>1000.000000</td>\n",
       "      <td>1000.000000</td>\n",
       "      <td>1000.00000</td>\n",
       "      <td>1000.000000</td>\n",
       "      <td>1000.0</td>\n",
       "      <td>1000.000000</td>\n",
       "      <td>1000.000000</td>\n",
       "    </tr>\n",
       "    <tr>\n",
       "      <th>mean</th>\n",
       "      <td>2.418772</td>\n",
       "      <td>0.089232</td>\n",
       "      <td>240.03579</td>\n",
       "      <td>10.351000</td>\n",
       "      <td>0.0</td>\n",
       "      <td>2.749000</td>\n",
       "      <td>5.756000</td>\n",
       "    </tr>\n",
       "    <tr>\n",
       "      <th>std</th>\n",
       "      <td>1.239979</td>\n",
       "      <td>0.088088</td>\n",
       "      <td>4.08442</td>\n",
       "      <td>5.122214</td>\n",
       "      <td>0.0</td>\n",
       "      <td>8.104053</td>\n",
       "      <td>8.066941</td>\n",
       "    </tr>\n",
       "    <tr>\n",
       "      <th>min</th>\n",
       "      <td>0.206000</td>\n",
       "      <td>0.000000</td>\n",
       "      <td>230.98000</td>\n",
       "      <td>0.800000</td>\n",
       "      <td>0.0</td>\n",
       "      <td>0.000000</td>\n",
       "      <td>0.000000</td>\n",
       "    </tr>\n",
       "    <tr>\n",
       "      <th>25%</th>\n",
       "      <td>1.806000</td>\n",
       "      <td>0.000000</td>\n",
       "      <td>236.94000</td>\n",
       "      <td>8.400000</td>\n",
       "      <td>0.0</td>\n",
       "      <td>0.000000</td>\n",
       "      <td>0.000000</td>\n",
       "    </tr>\n",
       "    <tr>\n",
       "      <th>50%</th>\n",
       "      <td>2.414000</td>\n",
       "      <td>0.072000</td>\n",
       "      <td>240.65000</td>\n",
       "      <td>10.000000</td>\n",
       "      <td>0.0</td>\n",
       "      <td>0.000000</td>\n",
       "      <td>0.000000</td>\n",
       "    </tr>\n",
       "    <tr>\n",
       "      <th>75%</th>\n",
       "      <td>3.308000</td>\n",
       "      <td>0.126000</td>\n",
       "      <td>243.29500</td>\n",
       "      <td>14.000000</td>\n",
       "      <td>0.0</td>\n",
       "      <td>1.000000</td>\n",
       "      <td>17.000000</td>\n",
       "    </tr>\n",
       "    <tr>\n",
       "      <th>max</th>\n",
       "      <td>7.706000</td>\n",
       "      <td>0.528000</td>\n",
       "      <td>249.37000</td>\n",
       "      <td>33.200000</td>\n",
       "      <td>0.0</td>\n",
       "      <td>38.000000</td>\n",
       "      <td>19.000000</td>\n",
       "    </tr>\n",
       "  </tbody>\n",
       "</table>\n",
       "</div>"
      ],
      "text/plain": [
       "       Global_active_power  Global_reactive_power     Voltage  \\\n",
       "count          1000.000000            1000.000000  1000.00000   \n",
       "mean              2.418772               0.089232   240.03579   \n",
       "std               1.239979               0.088088     4.08442   \n",
       "min               0.206000               0.000000   230.98000   \n",
       "25%               1.806000               0.000000   236.94000   \n",
       "50%               2.414000               0.072000   240.65000   \n",
       "75%               3.308000               0.126000   243.29500   \n",
       "max               7.706000               0.528000   249.37000   \n",
       "\n",
       "       Global_intensity  Sub_metering_1  Sub_metering_2  Sub_metering_3  \n",
       "count       1000.000000          1000.0     1000.000000     1000.000000  \n",
       "mean          10.351000             0.0        2.749000        5.756000  \n",
       "std            5.122214             0.0        8.104053        8.066941  \n",
       "min            0.800000             0.0        0.000000        0.000000  \n",
       "25%            8.400000             0.0        0.000000        0.000000  \n",
       "50%           10.000000             0.0        0.000000        0.000000  \n",
       "75%           14.000000             0.0        1.000000       17.000000  \n",
       "max           33.200000             0.0       38.000000       19.000000  "
      ]
     },
     "execution_count": 3,
     "metadata": {},
     "output_type": "execute_result"
    }
   ],
   "source": [
    "# 异常数据处理\n",
    "new_df=df.replace('?',np.nan)\n",
    "datas=new_df.dropna(axis=0,how='any')\n",
    "print('数据统计指标表')\n",
    "datas.describe()"
   ]
  },
  {
   "cell_type": "code",
   "execution_count": 4,
   "metadata": {},
   "outputs": [
    {
     "name": "stdout",
     "output_type": "stream",
     "text": [
      "数据详细指标表\n",
      "<class 'pandas.core.frame.DataFrame'>\n",
      "Int64Index: 1000 entries, 0 to 999\n",
      "Data columns (total 9 columns):\n",
      "Date                     1000 non-null object\n",
      "Time                     1000 non-null object\n",
      "Global_active_power      1000 non-null float64\n",
      "Global_reactive_power    1000 non-null float64\n",
      "Voltage                  1000 non-null float64\n",
      "Global_intensity         1000 non-null float64\n",
      "Sub_metering_1           1000 non-null float64\n",
      "Sub_metering_2           1000 non-null float64\n",
      "Sub_metering_3           1000 non-null float64\n",
      "dtypes: float64(7), object(2)\n",
      "memory usage: 78.1+ KB\n"
     ]
    }
   ],
   "source": [
    "print('数据详细指标表')\n",
    "datas.info()"
   ]
  },
  {
   "cell_type": "code",
   "execution_count": 5,
   "metadata": {
    "collapsed": true
   },
   "outputs": [],
   "source": [
    "# 创建一个时间函数格式化字符串\n",
    "def date_format(dt):\n",
    "    import time\n",
    "    t = time.strptime(' '.join(dt), '%d/%m/%Y %H:%M:%S')\n",
    "    return (t.tm_year, t.tm_mon, t.tm_mday, t.tm_hour, t.tm_min, t.tm_sec)"
   ]
  },
  {
   "cell_type": "code",
   "execution_count": 8,
   "metadata": {},
   "outputs": [
    {
     "name": "stdout",
     "output_type": "stream",
     "text": [
      "      0   1   2   3   4  5\n",
      "0  2006  12  16  17  24  0\n",
      "1  2006  12  16  17  25  0\n",
      "2  2006  12  16  17  26  0\n",
      "3  2006  12  16  17  27  0\n",
      "4  2006  12  16  17  28  0\n"
     ]
    }
   ],
   "source": [
    "# 获取x和y变量,并将时间转换为数值型连续变量\n",
    "# X:为时间\n",
    "# Y:用电量\n",
    "# 获取x和y变量, 并将时间转换为数值型连续变量\n",
    "X = datas.iloc[:,0:2]\n",
    "X = X.apply(lambda x: pd.Series(date_format(x)), axis=1)\n",
    "Y = datas['Global_active_power']\n",
    "print(X.head())"
   ]
  },
  {
   "cell_type": "code",
   "execution_count": 9,
   "metadata": {
    "collapsed": true
   },
   "outputs": [],
   "source": [
    "# 将数据集划分为训练集和测试集\n",
    "X_train,X_test,Y_train,Y_test=train_test_split(X,Y,test_size=0.2,random_state=0)"
   ]
  },
  {
   "cell_type": "code",
   "execution_count": 10,
   "metadata": {},
   "outputs": [
    {
     "name": "stdout",
     "output_type": "stream",
     "text": [
      "<class 'pandas.core.frame.DataFrame'>\n",
      "0    800\n",
      "1    800\n",
      "2    800\n",
      "3    800\n",
      "4    800\n",
      "5    800\n",
      "dtype: int64\n"
     ]
    }
   ],
   "source": [
    "print(type(X_train))\n",
    "print(X_train.count())"
   ]
  },
  {
   "cell_type": "code",
   "execution_count": 11,
   "metadata": {},
   "outputs": [
    {
     "name": "stdout",
     "output_type": "stream",
     "text": [
      "<class 'pandas.core.frame.DataFrame'>\n",
      "0    200\n",
      "1    200\n",
      "2    200\n",
      "3    200\n",
      "4    200\n",
      "5    200\n",
      "dtype: int64\n"
     ]
    }
   ],
   "source": [
    "print(type(X_test))\n",
    "print(X_test.count())"
   ]
  },
  {
   "cell_type": "code",
   "execution_count": 12,
   "metadata": {
    "collapsed": true
   },
   "outputs": [],
   "source": [
    "# 对数据进行标准化\n",
    "ss=StandardScaler()\n",
    "X_train=ss.fit_transform(X_train) # 训练并转换\n",
    "X_test=ss.transform(X_test) # 直接使用在模型构建数据上进行一个数据标准化操作\n",
    "\n",
    "# 这里,fit_transform和transform的区别?\n",
    "# fit_tranform是计算并转换,在这个过程中会计算出均值和方差,然后将变量进行标准化去量纲\n",
    "# transform是转换,它将用上面计算出的均值和方差来进行标准化去量纲.\n",
    "# 因为训练集的数据相较于测试集更多 ,所以测试集也延用训练集算出来的均值和方差\n",
    "# 因此fit_transform在transform上面调用"
   ]
  },
  {
   "cell_type": "code",
   "execution_count": 13,
   "metadata": {},
   "outputs": [
    {
     "data": {
      "text/plain": [
       "LinearRegression(copy_X=True, fit_intercept=True, n_jobs=1, normalize=False)"
      ]
     },
     "execution_count": 13,
     "metadata": {},
     "output_type": "execute_result"
    }
   ],
   "source": [
    "## 模型训练\n",
    "lr=LinearRegression()\n",
    "lr.fit(X_train,Y_train)"
   ]
  },
  {
   "cell_type": "code",
   "execution_count": 14,
   "metadata": {},
   "outputs": [
    {
     "name": "stdout",
     "output_type": "stream",
     "text": [
      "准确率: 0.244093118059\n",
      "rmse: 1.16409234597\n",
      "特征的系数为: [('年', 0.0), ('月', 1.1102230246251565e-16), ('日', -1.4158816617332379), ('时', -0.93495324324956441), ('分', -0.10214075598496999), ('秒', 0.0)]\n"
     ]
    }
   ],
   "source": [
    "## 模型校验\n",
    "y_predict=lr.predict(X_test)\n",
    "time_name=['年','月','日','时','分','秒']\n",
    "print(\"准确率:\",lr.score(X_train,Y_train))\n",
    "mse=np.average((y_predict-Y_test)**2)\n",
    "rmse=np.sqrt(mse)\n",
    "print('rmse:',rmse)\n",
    "print(\"特征的系数为:\",list(zip(time_name,lr.coef_)))"
   ]
  },
  {
   "cell_type": "code",
   "execution_count": 15,
   "metadata": {},
   "outputs": [
    {
     "data": {
      "text/plain": [
       "LinearRegression(copy_X=True, fit_intercept=True, n_jobs=1, normalize=False)"
      ]
     },
     "execution_count": 15,
     "metadata": {},
     "output_type": "execute_result"
    }
   ],
   "source": [
    "## 模型保存/持久化\n",
    "from sklearn.externals import joblib\n",
    "\n",
    "joblib.dump(ss,\"data_ss.model\") ## 将标准化模型保存\n",
    "joblib.dump(lr,\"data_lr.model\") ## 将模型保存\n",
    "\n",
    "joblib.load(\"data_ss.model\") ## 加载模型\n",
    "joblib.load(\"data_lr.model\") ## 加载模型"
   ]
  },
  {
   "cell_type": "code",
   "execution_count": 17,
   "metadata": {},
   "outputs": [
    {
     "data": {
      "image/png": "[encoded data removed]",
      "text/plain": [
       "<matplotlib.figure.Figure at 0x108482898>"
      ]
     },
     "metadata": {},
     "output_type": "display_data"
    }
   ],
   "source": [
    "## 预测值和实际值画图比较\n",
    "t=np.arange(len(X_test))\n",
    "plt.figure(facecolor='w')\n",
    "plt.plot(t,Y_test,'r-',linewidth=2,label='真实值')\n",
    "plt.plot(t,y_predict,'g-',linewidth=2,label='预测值')\n",
    "plt.legend(loc='upper left')\n",
    "plt.title(\"线性回归预测时间与功率之间的关系\",fontsize=20)\n",
    "plt.grid(b=True)\n",
    "plt.show()"
   ]
  },
  {
   "cell_type": "markdown",
   "metadata": {},
   "source": [
    "# 功率与电流之间的关系"
   ]
  },
  {
   "cell_type": "code",
   "execution_count": 18,
   "metadata": {},
   "outputs": [
    {
     "data": {
      "text/html": [
       "<div>\n",
       "<style>\n",
       "    .dataframe thead tr:only-child th {\n",
       "        text-align: right;\n",
       "    }\n",
       "\n",
       "    .dataframe thead th {\n",
       "        text-align: left;\n",
       "    }\n",
       "\n",
       "    .dataframe tbody tr th {\n",
       "        vertical-align: top;\n",
       "    }\n",
       "</style>\n",
       "<table border=\"1\" class=\"dataframe\">\n",
       "  <thead>\n",
       "    <tr style=\"text-align: right;\">\n",
       "      <th></th>\n",
       "      <th>Date</th>\n",
       "      <th>Time</th>\n",
       "      <th>Global_active_power</th>\n",
       "      <th>Global_reactive_power</th>\n",
       "      <th>Voltage</th>\n",
       "      <th>Global_intensity</th>\n",
       "      <th>Sub_metering_1</th>\n",
       "      <th>Sub_metering_2</th>\n",
       "      <th>Sub_metering_3</th>\n",
       "    </tr>\n",
       "  </thead>\n",
       "  <tbody>\n",
       "    <tr>\n",
       "      <th>0</th>\n",
       "      <td>16/12/2006</td>\n",
       "      <td>17:24:00</td>\n",
       "      <td>4.216</td>\n",
       "      <td>0.418</td>\n",
       "      <td>234.84</td>\n",
       "      <td>18.4</td>\n",
       "      <td>0.0</td>\n",
       "      <td>1.0</td>\n",
       "      <td>17.0</td>\n",
       "    </tr>\n",
       "    <tr>\n",
       "      <th>1</th>\n",
       "      <td>16/12/2006</td>\n",
       "      <td>17:25:00</td>\n",
       "      <td>5.360</td>\n",
       "      <td>0.436</td>\n",
       "      <td>233.63</td>\n",
       "      <td>23.0</td>\n",
       "      <td>0.0</td>\n",
       "      <td>1.0</td>\n",
       "      <td>16.0</td>\n",
       "    </tr>\n",
       "    <tr>\n",
       "      <th>2</th>\n",
       "      <td>16/12/2006</td>\n",
       "      <td>17:26:00</td>\n",
       "      <td>5.374</td>\n",
       "      <td>0.498</td>\n",
       "      <td>233.29</td>\n",
       "      <td>23.0</td>\n",
       "      <td>0.0</td>\n",
       "      <td>2.0</td>\n",
       "      <td>17.0</td>\n",
       "    </tr>\n",
       "    <tr>\n",
       "      <th>3</th>\n",
       "      <td>16/12/2006</td>\n",
       "      <td>17:27:00</td>\n",
       "      <td>5.388</td>\n",
       "      <td>0.502</td>\n",
       "      <td>233.74</td>\n",
       "      <td>23.0</td>\n",
       "      <td>0.0</td>\n",
       "      <td>1.0</td>\n",
       "      <td>17.0</td>\n",
       "    </tr>\n",
       "    <tr>\n",
       "      <th>4</th>\n",
       "      <td>16/12/2006</td>\n",
       "      <td>17:28:00</td>\n",
       "      <td>3.666</td>\n",
       "      <td>0.528</td>\n",
       "      <td>235.68</td>\n",
       "      <td>15.8</td>\n",
       "      <td>0.0</td>\n",
       "      <td>1.0</td>\n",
       "      <td>17.0</td>\n",
       "    </tr>\n",
       "  </tbody>\n",
       "</table>\n",
       "</div>"
      ],
      "text/plain": [
       "         Date      Time  Global_active_power  Global_reactive_power  Voltage  \\\n",
       "0  16/12/2006  17:24:00                4.216                  0.418   234.84   \n",
       "1  16/12/2006  17:25:00                5.360                  0.436   233.63   \n",
       "2  16/12/2006  17:26:00                5.374                  0.498   233.29   \n",
       "3  16/12/2006  17:27:00                5.388                  0.502   233.74   \n",
       "4  16/12/2006  17:28:00                3.666                  0.528   235.68   \n",
       "\n",
       "   Global_intensity  Sub_metering_1  Sub_metering_2  Sub_metering_3  \n",
       "0              18.4             0.0             1.0            17.0  \n",
       "1              23.0             0.0             1.0            16.0  \n",
       "2              23.0             0.0             2.0            17.0  \n",
       "3              23.0             0.0             1.0            17.0  \n",
       "4              15.8             0.0             1.0            17.0  "
      ]
     },
     "execution_count": 18,
     "metadata": {},
     "output_type": "execute_result"
    }
   ],
   "source": [
    "datas.head()"
   ]
  },
  {
   "cell_type": "code",
   "execution_count": 30,
   "metadata": {},
   "outputs": [
    {
     "name": "stdout",
     "output_type": "stream",
     "text": [
      "电流训练准确率:  0.990965757307\n",
      "电流预测准确率:  0.992042060971\n",
      "电流参数:  [ 5.07744316  0.07191391]\n"
     ]
    }
   ],
   "source": [
    "## 功率和电流之间的关系\n",
    "X = datas.iloc[:,2:4]\n",
    "Y2 = datas.iloc[:,5]\n",
    "\n",
    "## 数据集划分\n",
    "X2_train,X2_test,Y2_train,Y2_test=train_test_split(X,Y2,test_size=0.2,random_state=0)\n",
    "\n",
    "## 数据归一化,对特征做归一化即可\n",
    "scaler2=StandardScaler()\n",
    "X2_train=scaler2.fit_transform(X2_train)\n",
    "X2_test=scaler2.transform(X2_test)\n",
    "\n",
    "## 模型训练\n",
    "lr2=LinearRegression()\n",
    "lr2.fit(X2_train,Y2_train)\n",
    "\n",
    "## 结果预测\n",
    "Y2_predict=lr2.predict(X2_test)\n",
    "\n",
    "## 模型评估\n",
    "print(\"电流训练准确率: \",lr2.score(X2_train,Y2_train))\n",
    "print(\"电流预测准确率: \",lr2.score(X2_test,Y2_test))\n",
    "print(\"电流参数: \",lr2.coef_)"
   ]
  },
  {
   "cell_type": "code",
   "execution_count": 34,
   "metadata": {},
   "outputs": [
    {
     "data": {
      "image/png": "[encoded data removed]",
      "text/plain": [
       "<matplotlib.figure.Figure at 0x1a19641278>"
      ]
     },
     "metadata": {},
     "output_type": "display_data"
    }
   ],
   "source": [
    "## 绘制图表\n",
    "t=np.arange(len(X2_test))\n",
    "plt.figure(facecolor='w')\n",
    "plt.plot(t,Y2_test,'r-',linewidth=2,label=\"真实值\")\n",
    "plt.plot(t,Y2_predict,'g-',linewidth=2,label=\"预测值\")\n",
    "plt.legend(loc='lower right')\n",
    "plt.title(\"线性回归预测功率与电流之间的关系\",fontsize=20)\n",
    "plt.grid(b=True)\n",
    "plt.show()"
   ]
  },
  {
   "cell_type": "code",
   "execution_count": null,
   "metadata": {
    "collapsed": true
   },
   "outputs": [],
   "source": [
    ""
   ]
  }
 ],
 "metadata": {
  "kernelspec": {
   "display_name": "Python 3",
   "language": "python",
   "name": "python3"
  },
  "language_info": {
   "codemirror_mode": {
    "name": "ipython",
    "version": 3.0
   },
   "file_extension": ".py",
   "mimetype": "text/x-python",
   "name": "python",
   "nbconvert_exporter": "python",
   "pygments_lexer": "ipython3",
   "version": "3.6.4"
  }
 },
 "nbformat": 4,
 "nbformat_minor": 0
}