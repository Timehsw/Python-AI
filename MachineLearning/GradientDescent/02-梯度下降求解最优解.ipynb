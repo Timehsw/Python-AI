{
 "cells": [
  {
   "cell_type": "code",
   "execution_count": 18,
   "metadata": {},
   "outputs": [],
   "source": [
    "import numpy as np\n",
    "import math\n",
    "import matplotlib as mpl\n",
    "import matplotlib.pyplot as plt"
   ]
  },
  {
   "cell_type": "code",
   "execution_count": 19,
   "metadata": {},
   "outputs": [],
   "source": [
    "%matplotlib tk"
   ]
  },
  {
   "cell_type": "code",
   "execution_count": 20,
   "metadata": {},
   "outputs": [],
   "source": [
    "# 解决中文显示问题\n",
    "mpl.rcParams['font.sans-serif'] = [u'SimHei']\n",
    "mpl.rcParams['axes.unicode_minus'] = False"
   ]
  },
  {
   "cell_type": "code",
   "execution_count": 21,
   "metadata": {},
   "outputs": [],
   "source": [
    "def f(x):\n",
    "    return 0.5*(x-0.25)**2\n",
    "\n",
    "def h(x):\n",
    "    return 0.5*2*(x-0.25)"
   ]
  },
  {
   "cell_type": "code",
   "execution_count": 22,
   "metadata": {},
   "outputs": [
    {
     "name": "stdout",
     "output_type": "stream",
     "text": [
      "最优解:(0.25001 , 0.00000)\n"
     ]
    }
   ],
   "source": [
    "# 使用梯度下降法求解\n",
    "step=0.5\n",
    "x=4\n",
    "max_iter=0\n",
    "f_change=f(x)\n",
    "f_current=f(x)\n",
    "\n",
    "X=[]\n",
    "Y=[]\n",
    "\n",
    "X.append(x)\n",
    "Y.append(f_current)\n",
    "\n",
    "while f_change>1e-10 and max_iter<100:\n",
    "    max_iter+=1\n",
    "    x=x-step*h(x)\n",
    "    tmp=f(x)\n",
    "    f_change=np.abs(f_current-tmp)\n",
    "    f_current=tmp\n",
    "    \n",
    "    X.append(x)\n",
    "    Y.append(f_current)\n",
    "    \n",
    "print(\"最优解:(%.5f , %.5f)\" % (x,f_current))\n",
    "\n",
    "# 画图\n",
    "x_real=np.arange(-4,4.5,0.05)\n",
    "y_real=np.array(list(map(lambda t:f(t),x_real)))\n",
    "\n",
    "plt.figure(facecolor='w')\n",
    "plt.plot(x_real,y_real,'r-',linewidth=2)\n",
    "plt.plot(X,Y,'bo--',linewidth=2)\n",
    "plt.title(\"Gradient Descent\")\n",
    "plt.show()"
   ]
  },
  {
   "cell_type": "code",
   "execution_count": null,
   "metadata": {},
   "outputs": [],
   "source": []
  }
 ],
 "metadata": {
  "kernelspec": {
   "display_name": "Python 3",
   "language": "python",
   "name": "python3"
  },
  "language_info": {
   "codemirror_mode": {
    "name": "ipython",
    "version": 3
   },
   "file_extension": ".py",
   "mimetype": "text/x-python",
   "name": "python",
   "nbconvert_exporter": "python",
   "pygments_lexer": "ipython3",
   "version": "3.6.4"
  }
 },
 "nbformat": 4,
 "nbformat_minor": 2
}
